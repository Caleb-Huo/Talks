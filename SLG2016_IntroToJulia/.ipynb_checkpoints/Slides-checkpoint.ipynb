{
 "cells": [
  {
   "cell_type": "markdown",
   "metadata": {
    "slideshow": {
     "slide_type": "slide"
    }
   },
   "source": [
    "![](https://raw.githubusercontent.com/docker-library/docs/520519ad7db3ea9fd5d3590e836c839a0ffd6f19/julia/logo.png)\n",
    "\n",
    "- Josh Day\n",
    "- GitHub: `@joshday`\n",
    "- Email: `emailjoshday@gmail.com`\n",
    "\n",
    "https://github.com/joshday/Talks/"
   ]
  },
  {
   "cell_type": "markdown",
   "metadata": {
    "slideshow": {
     "slide_type": "slide"
    }
   },
   "source": [
    "# About Me\n",
    "\n",
    "- 5th-year PhD student in Statistics at NC State\n",
    "- Julia has been language of choice for the last 2 years\n",
    "- Maintainer of several Julia packages\n",
    "    - [OnlineStats.jl](https://github.com/joshday/OnlineStats.jl) (statistics for streaming data)\n",
    "    - [OnlineStatsModels.jl](https://github.com/joshday/OnlineStats.jl) (OnlineStats + Machine Learning)\n",
    "    - [AverageShiftedHistograms.jl](https://github.com/joshday/AverageShiftedHistograms.jl)\n",
    "    - [SparseRegression.jl](https://github.com/joshday/SparseRegression.jl)\n",
    "    - [StandardizedMatrices.jl](https://github.com/joshday/StandardizedMatrices.jl)\n",
    "    - [SweepOperator.jl](https://github.com/joshday/SweepOperator.jl)"
   ]
  },
  {
   "cell_type": "markdown",
   "metadata": {
    "slideshow": {
     "slide_type": "slide"
    }
   },
   "source": [
    "# What is Julia?\n",
    "> Julia is a high-level, high-performance dynamic programming language for technical computing\n",
    "\n",
    "#### Julia is more than just \"Fast R\" or \"Fast Matlab\"\n",
    "- Performance comes from features that work well together.  \n",
    "- **You can't just take the magic dust that makes Julia fast and sprinkle it on [language of choice]**"
   ]
  },
  {
   "cell_type": "markdown",
   "metadata": {},
   "source": [
    "![](https://camo.githubusercontent.com/ca783e9f05294da6bb8dea6bdda1c43289a0fff6/687474703a2f2f692e696d6775722e636f6d2f49435862394a672e706e67)"
   ]
  },
  {
   "cell_type": "markdown",
   "metadata": {
    "slideshow": {
     "slide_type": "slide"
    }
   },
   "source": [
    "# Core Features\n",
    "\n",
    "- JIT\n",
    "- Type system\n",
    "- Type inference\n",
    "- Multiple dispatch\n",
    "- Metaprogramming\n",
    "- Pass by reference"
   ]
  },
  {
   "cell_type": "markdown",
   "metadata": {
    "slideshow": {
     "slide_type": "slide"
    }
   },
   "source": [
    "# JIT"
   ]
  },
  {
   "cell_type": "code",
   "execution_count": 69,
   "metadata": {
    "collapsed": false,
    "slideshow": {
     "slide_type": "-"
    }
   },
   "outputs": [
    {
     "name": "stdout",
     "output_type": "stream",
     "text": [
      "  0.000017 seconds (5 allocations: 176 bytes)\n"
     ]
    },
    {
     "data": {
      "text/plain": [
       "0.00818994412869265"
      ]
     },
     "execution_count": 69,
     "metadata": {},
     "output_type": "execute_result"
    }
   ],
   "source": [
    "y = randn(10_000)\n",
    "\n",
    "# function gets compiled by JIT\n",
    "@time mean(y)  "
   ]
  },
  {
   "cell_type": "code",
   "execution_count": 70,
   "metadata": {
    "collapsed": false,
    "slideshow": {
     "slide_type": "-"
    }
   },
   "outputs": [
    {
     "name": "stdout",
     "output_type": "stream",
     "text": [
      "  0.000016 seconds (5 allocations: 176 bytes)\n"
     ]
    },
    {
     "data": {
      "text/plain": [
       "0.00818994412869265"
      ]
     },
     "execution_count": 70,
     "metadata": {},
     "output_type": "execute_result"
    }
   ],
   "source": [
    "# compiled function is run\n",
    "@time mean(y)  "
   ]
  },
  {
   "cell_type": "markdown",
   "metadata": {
    "slideshow": {
     "slide_type": "slide"
    }
   },
   "source": [
    "# Dynamic and Compiled"
   ]
  },
  {
   "cell_type": "code",
   "execution_count": 71,
   "metadata": {
    "collapsed": false,
    "slideshow": {
     "slide_type": "-"
    }
   },
   "outputs": [
    {
     "name": "stderr",
     "output_type": "stream",
     "text": [
      "WARNING: Method definition f(Any) in module Main at In[3]:1 overwritten at In[71]:1.\n"
     ]
    },
    {
     "data": {
      "text/plain": [
       "f (generic function with 1 method)"
      ]
     },
     "execution_count": 71,
     "metadata": {},
     "output_type": "execute_result"
    }
   ],
   "source": [
    "f(x) = x ^ 2  "
   ]
  },
  {
   "cell_type": "code",
   "execution_count": 72,
   "metadata": {
    "collapsed": false
   },
   "outputs": [
    {
     "name": "stdout",
     "output_type": "stream",
     "text": [
      "\n",
      "define i64 @julia_f_76118(i64) #0 {\n",
      "top:\n",
      "  %1 = mul i64 %0, %0\n",
      "  ret i64 %1\n",
      "}\n"
     ]
    }
   ],
   "source": [
    "# method specific for Int64\n",
    "@code_llvm f(1)  "
   ]
  },
  {
   "cell_type": "code",
   "execution_count": 73,
   "metadata": {
    "collapsed": false
   },
   "outputs": [
    {
     "name": "stdout",
     "output_type": "stream",
     "text": [
      "\n",
      "define double @julia_f_76120(double) #0 {\n",
      "top:\n",
      "  %1 = fmul double %0, %0\n",
      "  ret double %1\n",
      "}\n"
     ]
    }
   ],
   "source": [
    "# method specific for Float64\n",
    "@code_llvm f(1.0)  "
   ]
  },
  {
   "cell_type": "markdown",
   "metadata": {},
   "source": [
    "# Types\n",
    "\n",
    "- When thinking about types, think about sets\n",
    "    - `Float64 <: AbstractFloat <: Real <: Number <: Any`\n",
    "        - `Float64` is a concrete type\n",
    "        - Everything above it is an abstract type\n",
    "- **Define functions for the least constricting type (highest in the type tree)**\n",
    "\n",
    "```julia\n",
    "# This\n",
    "f(x::Number) = x ^ 2\n",
    "\n",
    "# Is better than\n",
    "f(x::Float64) = x ^ 2\n",
    "```\n",
    "- If Julia can't infer the type, it treats things as `Any`\n",
    "    - Using `Any` is essentially \"do what R does\""
   ]
  },
  {
   "cell_type": "markdown",
   "metadata": {
    "slideshow": {
     "slide_type": "slide"
    }
   },
   "source": [
    "# The Julian Way\n",
    "\n",
    "- Programs organized around multiple dispatch\n",
    "    - Functions call different code depending on the types of the arguments\n",
    "- Focus on the right verbs/grammar for using a given type"
   ]
  },
  {
   "cell_type": "code",
   "execution_count": 74,
   "metadata": {
    "collapsed": false
   },
   "outputs": [
    {
     "name": "stdout",
     "output_type": "stream",
     "text": [
      "cdf(dist,0.5) = 0.0001721156299558404\n",
      "cdf(dist,0.5) = 0.6914624612740131\n",
      "cdf(dist,0.5) = 0.8125\n"
     ]
    }
   ],
   "source": [
    "using Distributions\n",
    "\n",
    "for dist in [Gamma(5, 1), Normal(0, 1), Beta(2, 4)]\n",
    "    @show cdf(dist, .5)\n",
    "end"
   ]
  },
  {
   "cell_type": "markdown",
   "metadata": {
    "slideshow": {
     "slide_type": "slide"
    }
   },
   "source": [
    "# The Power of Abstraction\n",
    "\n",
    "- Keeping things generic is typically not extra work\n",
    "- Example:\n",
    "    - Naive quantile algorithm using Newton's method\n",
    "    - I know all `UnivariateDistribution`s have methods for `mean`, `pdf`, and `cdf`"
   ]
  },
  {
   "cell_type": "code",
   "execution_count": 75,
   "metadata": {
    "collapsed": false,
    "slideshow": {
     "slide_type": "slide"
    }
   },
   "outputs": [
    {
     "name": "stdout",
     "output_type": "stream",
     "text": [
      "myquantile(dist,0.75) = 6.274430698436519\n",
      "quantile(dist,0.75) = 6.2744306984446885\n",
      "\n",
      "myquantile(dist,0.75) = 0.6744897501960708\n",
      "quantile(dist,0.75) = 0.6744897501960818\n",
      "\n",
      "myquantile(dist,0.75) = 0.45418056477357555\n",
      "quantile(dist,0.75) = 0.4541805647736157\n",
      "\n"
     ]
    },
    {
     "name": "stderr",
     "output_type": "stream",
     "text": [
      "WARNING: Method definition myquantile(Distributions.Distribution{Distributions.Univariate, S<:Distributions.ValueSupport}, Number) in module Main at In[7]:2 overwritten at In[75]:2.\n"
     ]
    }
   ],
   "source": [
    "function myquantile(d::UnivariateDistribution, q::Number)\n",
    "    θ = mean(d)\n",
    "    tol = Inf\n",
    "    while tol > 1e-5\n",
    "        θold = θ\n",
    "        θ = θ - (cdf(d, θ) - q) / pdf(d, θ)\n",
    "        tol = abs(θold - θ)\n",
    "    end\n",
    "    θ\n",
    "end\n",
    "\n",
    "for dist in [Gamma(5, 1), Normal(0, 1), Beta(2, 4)]\n",
    "    @show myquantile(dist, .75)\n",
    "    @show quantile(dist, .75)\n",
    "    println()\n",
    "end"
   ]
  },
  {
   "cell_type": "markdown",
   "metadata": {},
   "source": [
    "# Macros and Metaprogramming"
   ]
  },
  {
   "cell_type": "code",
   "execution_count": 76,
   "metadata": {
    "collapsed": false
   },
   "outputs": [
    {
     "name": "stdout",
     "output_type": "stream",
     "text": [
      "sum(x) = 0.9696718160662796\n"
     ]
    }
   ],
   "source": [
    "x = rand(3)\n",
    "\n",
    "# Why does this need to be a macro?\n",
    "@show sum(x);"
   ]
  },
  {
   "cell_type": "code",
   "execution_count": 77,
   "metadata": {
    "collapsed": false
   },
   "outputs": [
    {
     "name": "stdout",
     "output_type": "stream",
     "text": [
      "  0.000276 seconds (6.91 k allocations: 123.625 KB)\n"
     ]
    },
    {
     "data": {
      "text/plain": [
       "5-element Array{Float64,1}:\n",
       "  1.0\n",
       "  3.0\n",
       "  7.0\n",
       " 13.0\n",
       " 21.0"
      ]
     },
     "execution_count": 77,
     "metadata": {},
     "output_type": "execute_result"
    }
   ],
   "source": [
    "x = zeros(1000)\n",
    "\n",
    "@time for i in eachindex(x)\n",
    "    @inbounds x[i] += i ^ 2 - i + 1  \n",
    "end\n",
    "\n",
    "x[1:5]"
   ]
  },
  {
   "cell_type": "markdown",
   "metadata": {},
   "source": [
    "# Pass by Reference"
   ]
  },
  {
   "cell_type": "code",
   "execution_count": 78,
   "metadata": {
    "collapsed": false,
    "scrolled": true
   },
   "outputs": [
    {
     "name": "stdout",
     "output_type": "stream",
     "text": [
      "@benchmark(copy(B)) = BenchmarkTools.Trial: \n",
      "  samples:          37\n",
      "  evals/sample:     1\n",
      "  time tolerance:   5.00%\n",
      "  memory tolerance: 1.00%\n",
      "  memory estimate:  190.73 mb\n",
      "  allocs estimate:  2\n",
      "  minimum time:     111.11 ms (11.96% GC)\n",
      "  median time:      131.24 ms (10.57% GC)\n",
      "  mean time:        136.55 ms (13.82% GC)\n",
      "  maximum time:     296.96 ms (53.79% GC)\n",
      "@benchmark(copy!(A,B)) = BenchmarkTools.Trial: \n",
      "  samples:          124\n",
      "  evals/sample:     1\n",
      "  time tolerance:   5.00%\n",
      "  memory tolerance: 1.00%\n",
      "  memory estimate:  0.00 bytes\n",
      "  allocs estimate:  0\n",
      "  minimum time:     27.13 ms (0.00% GC)\n",
      "  median time:      34.80 ms (0.00% GC)\n",
      "  mean time:        40.54 ms (0.00% GC)\n",
      "  maximum time:     70.10 ms (0.00% GC)\n"
     ]
    }
   ],
   "source": [
    "using BenchmarkTools\n",
    "\n",
    "A = zeros(50_000, 500)\n",
    "B = randn(50_000, 500)\n",
    "\n",
    "@show @benchmark copy(B)\n",
    "@show @benchmark copy!(A, B);"
   ]
  },
  {
   "cell_type": "markdown",
   "metadata": {},
   "source": [
    "# BLAS (Basic Linear Algebra Subroutines)\n",
    "\n",
    "- Operations like matrix multiplication use BLAS\n",
    "- In Julia, you can call the BLAS functions directly"
   ]
  },
  {
   "cell_type": "code",
   "execution_count": 79,
   "metadata": {
    "collapsed": false
   },
   "outputs": [
    {
     "name": "stdout",
     "output_type": "stream",
     "text": [
      "@benchmark(0.5x + y) = BenchmarkTools.Trial: \n",
      "  samples:          7058\n",
      "  evals/sample:     1\n",
      "  time tolerance:   5.00%\n",
      "  memory tolerance: 1.00%\n",
      "  memory estimate:  1.53 mb\n",
      "  allocs estimate:  5\n",
      "  minimum time:     233.62 μs (0.00% GC)\n",
      "  median time:      533.07 μs (0.00% GC)\n",
      "  mean time:        706.52 μs (16.48% GC)\n",
      "  maximum time:     159.54 ms (99.43% GC)\n",
      "@benchmark(BLAS.axpy!(1.0,x,y)) = BenchmarkTools.Trial: \n",
      "  samples:          10000\n",
      "  evals/sample:     1\n",
      "  time tolerance:   5.00%\n",
      "  memory tolerance: 1.00%\n",
      "  memory estimate:  0.00 bytes\n",
      "  allocs estimate:  0\n",
      "  minimum time:     15.74 μs (0.00% GC)\n",
      "  median time:      16.10 μs (0.00% GC)\n",
      "  mean time:        18.13 μs (0.00% GC)\n",
      "  maximum time:     318.72 μs (0.00% GC)\n"
     ]
    }
   ],
   "source": [
    "a = 0.5\n",
    "x = randn(100_000)\n",
    "y = randn(100_000)\n",
    "\n",
    "@show @benchmark 0.5 * x + y\n",
    "@show @benchmark BLAS.axpy!(1.0, x, y);"
   ]
  },
  {
   "cell_type": "markdown",
   "metadata": {
    "slideshow": {
     "slide_type": "slide"
    }
   },
   "source": [
    "# Other Reasons to Use Julia"
   ]
  },
  {
   "cell_type": "markdown",
   "metadata": {
    "slideshow": {
     "slide_type": "slide"
    }
   },
   "source": [
    "- Free, Open Source\n",
    "- Most of Julia is written in Julia\n",
    "    - Easier to find out what's going on\n",
    "        - `@edit`\n",
    "        - No digging through underlying C/Fortran\n",
    "    - Writing Julia gives you expertise in Julia development\n",
    "        - In contrast, to write an R package, you probably need to depend on C++/Fortran for performance\n",
    "        - No \"Two Language Problem\""
   ]
  },
  {
   "cell_type": "markdown",
   "metadata": {
    "slideshow": {
     "slide_type": "slide"
    }
   },
   "source": [
    "## The Two Language Problem\n",
    "\n",
    "- Prototype code goes into high-level language like R.\n",
    "- Production code goes into low-level language like C++.\n",
    "\n",
    "**There are major wins for a language that lends itself to both prototype and production**"
   ]
  },
  {
   "cell_type": "markdown",
   "metadata": {},
   "source": [
    "# R is great, but...\n",
    "\n",
    "### It was never intended be high performance\n",
    "- http://adv-r.had.co.nz/Performance.html\n",
    "\n",
    "\n",
    "### Deficiencies in the the core language \n",
    "- Some fixed with packages (devtools, roxygen2, Matrix)\n",
    "- Others harder to fix (R uses an old version of BLAS)\n",
    "- Some impossible to fix (clunky syntax, poor design choices)\n",
    "\n",
    "### Only 6 active developers left (out of 20 R-Core members)\n",
    "- Julia also has a small core team, but many contributors \n",
    "    - In Fall 2015, 479 people had contributed (now 530)\n",
    "    - https://github.com/JuliaLang/julia/graphs/contributors\n",
    "\n",
    "\n",
    "\n",
    "   \n",
    "### Doug Bates (`Matrix` and `lme4`, member of R-Core)\n",
    "\n",
    "> As some of you may know, I have had a (rather late) mid-life crisis and run off with another language called Julia. (http://julialang.org)\n",
    "\n",
    "- Doug has contributed a lot of statistics functionality for Julia\n",
    "    - GLM, MixedModels, Feather"
   ]
  },
  {
   "cell_type": "markdown",
   "metadata": {
    "slideshow": {
     "slide_type": "slide"
    }
   },
   "source": [
    "# What is the State of Julia?"
   ]
  },
  {
   "cell_type": "markdown",
   "metadata": {
    "slideshow": {
     "slide_type": "slide"
    }
   },
   "source": [
    "![](http://pkg.julialang.org/img/allver.svg)"
   ]
  },
  {
   "cell_type": "markdown",
   "metadata": {
    "slideshow": {
     "slide_type": "slide"
    }
   },
   "source": [
    "![](http://pkg.julialang.org/img/stars.svg)"
   ]
  },
  {
   "cell_type": "markdown",
   "metadata": {
    "slideshow": {
     "slide_type": "slide"
    }
   },
   "source": [
    "# Are People Taking Julia Seriously?\n",
    "\n",
    "- [DSGE.jl](https://github.com/FRBNY-DSGE/DSGE.jl) (originally MATLAB) - New York Fed - Dynamic Stochastic General Equilibrium Models\n",
    "- [OpenMendel](https://github.com/OpenMendel) (originally FORTRAN) - Statistical analysis for genetics \n",
    "- [IntelLabs](https://github.com/IntelLabs) \n",
    "    - [High Performance Analytics Toolkit (HPAT.jl)](https://github.com/IntelLabs/HPAT.jl) (competitor to Spark) \n",
    "- Arbitrary ranking system puts Julia in top 50! (http://www.tiobe.com/tiobe-index/)"
   ]
  },
  {
   "cell_type": "markdown",
   "metadata": {
    "slideshow": {
     "slide_type": "slide"
    }
   },
   "source": [
    "# Tools for Statistics/Data Science\n",
    "\n",
    "- [JuliaStats Organization](https://github.com/JuliaStats)\n",
    "    - [StatsBase.jl](https://github.com/JuliaStats/StatsBase.jl)\n",
    "    - [Distributions.jl](https://github.com/JuliaStats/Distributions.jl)\n",
    "    - [GLM.jl](https://github.com/JuliaStats/GLM.jl)\n",
    "    - [NullableArrays.jl](https://github.com/JuliaStats/NullableArrays.jl)\n",
    "    - [DataFrames.jl](https://github.com/JuliaStats/DataFrames.jl)\n",
    "    - and more\n",
    "- [MixedModels.jl](https://github.com/dmbates/MixedModels.jl)\n",
    "- [JuliaML Organization](https://github.com/JuliaML)\n",
    "    - [Transformations.jl](https://github.com/JuliaML/Transformations.jl)\n",
    "    - [Losses.jl](https://github.com/JuliaML/Losses.jl)\n",
    "    - [Penalties.jl](https://github.com/JuliaML/Penalties.jl)\n",
    "- [Plots.jl](https://github.com/tbreloff/Plots.jl)"
   ]
  },
  {
   "cell_type": "markdown",
   "metadata": {
    "slideshow": {
     "slide_type": "slide"
    }
   },
   "source": [
    "# General Optimization\n",
    "\n",
    "- Optimization in pure Julia\n",
    "    - [Optim.jl](https://github.com/JuliaOpt/Optim.jl)\n",
    "- Optimization with backend solvers (mosek, gurobi, etc.)\n",
    "    - [JuMP.jl](https://github.com/JuliaOpt/JuMP.jl)\n",
    "    - [Convex.jl](https://github.com/JuliaOpt/Convex.jl)"
   ]
  },
  {
   "cell_type": "markdown",
   "metadata": {
    "slideshow": {
     "slide_type": "slide"
    }
   },
   "source": [
    "# How Can I Use Julia alongside R/Python?"
   ]
  },
  {
   "cell_type": "markdown",
   "metadata": {
    "slideshow": {
     "slide_type": "slide"
    }
   },
   "source": [
    "# [PyCall](https://github.com/JuliaPy/PyCall.jl)\n",
    "\n",
    "- Call Python from Julia\n",
    "- Heavily used, some packages depend mostly on PyCall\n",
    "    - [PyPlot.jl](https://github.com/JuliaPy/PyPlot.jl)\n",
    "    - [ScikitLearn.jl](https://github.com/cstjean/ScikitLearn.jl)\n",
    "        - Supports Models from both Python and Julia"
   ]
  },
  {
   "cell_type": "code",
   "execution_count": 80,
   "metadata": {
    "collapsed": false,
    "slideshow": {
     "slide_type": "slide"
    }
   },
   "outputs": [
    {
     "data": {
      "text/plain": [
       "1.2246467991473532e-16"
      ]
     },
     "execution_count": 80,
     "metadata": {},
     "output_type": "execute_result"
    }
   ],
   "source": [
    "using PyCall\n",
    "@pyimport math\n",
    "\n",
    "math.sin(math.pi)"
   ]
  },
  {
   "cell_type": "code",
   "execution_count": 81,
   "metadata": {
    "collapsed": false,
    "slideshow": {
     "slide_type": "slide"
    }
   },
   "outputs": [
    {
     "data": {
      "image/png": "[encoded data removed]",
      "text/plain": [
       "PyPlot.Figure(PyObject <matplotlib.figure.Figure object at 0x33b7f7810>)"
      ]
     },
     "metadata": {},
     "output_type": "display_data"
    },
    {
     "name": "stderr",
     "output_type": "stream",
     "text": [
      "WARNING: replacing module PyPlotExample\n"
     ]
    },
    {
     "data": {
      "text/plain": [
       "PyPlotExample"
      ]
     },
     "execution_count": 81,
     "metadata": {},
     "output_type": "execute_result"
    }
   ],
   "source": [
    "module PyPlotExample\n",
    "using PyPlot\n",
    "plot(randn(100))\n",
    "end"
   ]
  },
  {
   "cell_type": "markdown",
   "metadata": {
    "slideshow": {
     "slide_type": "slide"
    }
   },
   "source": [
    "# [RCall](https://github.com/JuliaStats/RCall.jl)\n",
    "\n",
    "- Call R from Julia\n",
    "- Use Julia objects within R"
   ]
  },
  {
   "cell_type": "code",
   "execution_count": 82,
   "metadata": {
    "collapsed": false,
    "slideshow": {
     "slide_type": "slide"
    }
   },
   "outputs": [
    {
     "data": {
      "text/plain": [
       "RCall.RObject{RCall.RealSxp}\n",
       "[1] 0.5537796 0.7961473 1.1638538 0.4987032 0.8726439\n"
      ]
     },
     "execution_count": 82,
     "metadata": {},
     "output_type": "execute_result"
    }
   ],
   "source": [
    "using RCall\n",
    "\n",
    "x = randn(5)\n",
    "\n",
    "R\"abs($x)\""
   ]
  },
  {
   "cell_type": "code",
   "execution_count": 83,
   "metadata": {
    "collapsed": false,
    "slideshow": {
     "slide_type": "slide"
    }
   },
   "outputs": [
    {
     "data": {
      "image/png": "[encoded data removed]"
     },
     "metadata": {},
     "output_type": "display_data"
    },
    {
     "data": {
      "text/plain": [
       "RCall.RObject{RCall.VecSxp}\n",
       "$breaks\n",
       " [1] -4.5 -4.0 -3.5 -3.0 -2.5 -2.0 -1.5 -1.0 -0.5  0.0  0.5  1.0  1.5  2.0  2.5\n",
       "[16]  3.0  3.5  4.0\n",
       "\n",
       "$counts\n",
       " [1]    1    1    7   43  168  424  897 1462 1959 1949 1472  944  446  168   48\n",
       "[16]    9    2\n",
       "\n",
       "$density\n",
       " [1] 0.0002 0.0002 0.0014 0.0086 0.0336 0.0848 0.1794 0.2924 0.3918 0.3898\n",
       "[11] 0.2944 0.1888 0.0892 0.0336 0.0096 0.0018 0.0004\n",
       "\n",
       "$mids\n",
       " [1] -4.25 -3.75 -3.25 -2.75 -2.25 -1.75 -1.25 -0.75 -0.25  0.25  0.75  1.25\n",
       "[13]  1.75  2.25  2.75  3.25  3.75\n",
       "\n",
       "$xname\n",
       "[1] \"`#JL`$x\"\n",
       "\n",
       "$equidist\n",
       "[1] TRUE\n",
       "\n",
       "attr(,\"class\")\n",
       "[1] \"histogram\"\n"
      ]
     },
     "execution_count": 83,
     "metadata": {},
     "output_type": "execute_result"
    }
   ],
   "source": [
    "using RCall\n",
    "x = randn(10000)\n",
    "R\"hist($x)\""
   ]
  },
  {
   "cell_type": "code",
   "execution_count": 84,
   "metadata": {
    "collapsed": false,
    "slideshow": {
     "slide_type": "slide"
    }
   },
   "outputs": [
    {
     "data": {
      "image/png": "[encoded data removed]"
     },
     "metadata": {},
     "output_type": "display_data"
    },
    {
     "data": {
      "text/plain": [
       "RCall.RObject{RCall.VecSxp}\n"
      ]
     },
     "execution_count": 84,
     "metadata": {},
     "output_type": "execute_result"
    }
   ],
   "source": [
    "R\"library(ggplot2); qplot($x)\""
   ]
  },
  {
   "cell_type": "markdown",
   "metadata": {
    "slideshow": {
     "slide_type": "slide"
    }
   },
   "source": [
    "# Which Julia Packages Provide Unique Features?\n",
    "\u001f"
   ]
  },
  {
   "cell_type": "markdown",
   "metadata": {
    "slideshow": {
     "slide_type": "slide"
    }
   },
   "source": [
    "# [Distributions.jl](https://github.com/JuliaStats/Distributions.jl)"
   ]
  },
  {
   "cell_type": "code",
   "execution_count": 85,
   "metadata": {
    "collapsed": false
   },
   "outputs": [
    {
     "name": "stdout",
     "output_type": "stream",
     "text": [
      "rand(d) = 11.214622200840845\n",
      "mean(d) = 12.0\n",
      "std(d) = 6.0\n",
      "mode(d) = 9.0\n",
      "median(d) = 11.016182246552686\n",
      "pdf(d,1) = 0.0014743442604398963\n",
      "logcdf(d,1) = -7.837659703712923\n"
     ]
    },
    {
     "name": "stderr",
     "output_type": "stream",
     "text": [
      "WARNING: `stat_bin()` using `bins = 30`. Pick better value with `binwidth`.\n"
     ]
    }
   ],
   "source": [
    "using Distributions\n",
    "d = Gamma(4,3)\n",
    "@show rand(d)\n",
    "@show mean(d)\n",
    "@show std(d)\n",
    "@show mode(d)\n",
    "@show median(d)\n",
    "@show pdf(d, 1)\n",
    "@show logcdf(d, 1);"
   ]
  },
  {
   "cell_type": "markdown",
   "metadata": {
    "slideshow": {
     "slide_type": "slide"
    }
   },
   "source": [
    "# [Plots.jl](https://github.com/tbreloff/Plots.jl)\n",
    "\n",
    "- **Julia does not have a built-in plotting library**\n",
    "- A smart, unifying syntax for multiple plotting libraries\n",
    "    - Removes the need to learn differences between:\n",
    "        - [PyPlot](https://github.com/JuliaPy/PyPlot.jl)\n",
    "        - [GR](https://github.com/jheinen/GR.jl)\n",
    "        - [PlotlyJS](https://github.com/spencerlyon2/PlotlyJS.jl)\n",
    "        - [UnicodePlots](https://github.com/Evizero/UnicodePlots.jl)\n",
    "        - [PGFPlots](https://github.com/sisl/PGFPlots.jl)"
   ]
  },
  {
   "cell_type": "code",
   "execution_count": 86,
   "metadata": {
    "collapsed": false,
    "slideshow": {
     "slide_type": "slide"
    }
   },
   "outputs": [
    {
     "data": {
      "text/html": [
       "<img src=\"data:image/png;base64,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\" />"
      ]
     },
     "execution_count": 86,
     "metadata": {},
     "output_type": "execute_result"
    }
   ],
   "source": [
    "using Plots\n",
    "x = cumsum(randn(100, 2))\n",
    "pyplot()\n",
    "plot(x)"
   ]
  },
  {
   "cell_type": "code",
   "execution_count": 87,
   "metadata": {
    "collapsed": false,
    "slideshow": {
     "slide_type": "slide"
    }
   },
   "outputs": [
    {
     "data": {
      "text/html": [
       "<?xml version=\"1.0\" encoding=\"utf-8\"?>\n",
       "<svg xmlns=\"http://www.w3.org/2000/svg\" xmlns:xlink=\"http://www.w3.org/1999/xlink\" width=\"600\" height=\"400\" viewBox=\"0 0 600 400\">\n",
       "<defs>\n",
       "  <clipPath id=\"clip00\">\n",
       "    <rect x=\"0\" y=\"0\" width=\"600\" height=\"400\"/>\n",
       "  </clipPath>\n",
       "</defs>\n",
       "<polygon clip-path=\"url(#clip00)\" points=\"\n",
       "0,400 600,400 600,0 0,0 \n",
       "  \" fill=\"#ffffff\" fill-opacity=\"1\"/>\n",
       "<defs>\n",
       "  <clipPath id=\"clip01\">\n",
       "    <rect x=\"120\" y=\"0\" width=\"421\" height=\"400\"/>\n",
       "  </clipPath>\n",
       "</defs>\n",
       "<polygon clip-path=\"url(#clip00)\" points=\"\n",
       "25.6518,381.015 596.063,381.015 596.063,3.93701 25.6518,3.93701 \n",
       "  \" fill=\"#ffffff\" fill-opacity=\"1\"/>\n",
       "<defs>\n",
       "  <clipPath id=\"clip02\">\n",
       "    <rect x=\"25\" y=\"3\" width=\"571\" height=\"378\"/>\n",
       "  </clipPath>\n",
       "</defs>\n",
       "<polyline clip-path=\"url(#clip02)\" style=\"stroke:#00002d; stroke-width:0.8; stroke-opacity:0.5; fill:none\" stroke-dasharray=\"1, 2\" points=\"\n",
       "  163.933,375.359 163.933,9.59318 \n",
       "  \"/>\n",
       "<polyline clip-path=\"url(#clip02)\" style=\"stroke:#00002d; stroke-width:0.8; stroke-opacity:0.5; fill:none\" stroke-dasharray=\"1, 2\" points=\"\n",
       "  307.977,375.359 307.977,9.59318 \n",
       "  \"/>\n",
       "<polyline clip-path=\"url(#clip02)\" style=\"stroke:#00002d; stroke-width:0.8; stroke-opacity:0.5; fill:none\" stroke-dasharray=\"1, 2\" points=\"\n",
       "  452.02,375.359 452.02,9.59318 \n",
       "  \"/>\n",
       "<polyline clip-path=\"url(#clip02)\" style=\"stroke:#00002d; stroke-width:0.8; stroke-opacity:0.5; fill:none\" stroke-dasharray=\"1, 2\" points=\"\n",
       "  596.063,375.359 596.063,9.59318 \n",
       "  \"/>\n",
       "<polyline clip-path=\"url(#clip02)\" style=\"stroke:#00002d; stroke-width:0.8; stroke-opacity:0.5; fill:none\" stroke-dasharray=\"1, 2\" points=\"\n",
       "  34.208,336.596 587.507,336.596 \n",
       "  \"/>\n",
       "<polyline clip-path=\"url(#clip02)\" style=\"stroke:#00002d; stroke-width:0.8; stroke-opacity:0.5; fill:none\" stroke-dasharray=\"1, 2\" points=\"\n",
       "  34.208,172.338 587.507,172.338 \n",
       "  \"/>\n",
       "<polyline clip-path=\"url(#clip02)\" style=\"stroke:#00002d; stroke-width:0.8; stroke-opacity:0.5; fill:none\" stroke-dasharray=\"1, 2\" points=\"\n",
       "  34.208,8.08009 587.507,8.08009 \n",
       "  \"/>\n",
       "<polyline clip-path=\"url(#clip02)\" style=\"stroke:#00002d; stroke-width:0.8; stroke-opacity:1; fill:none\" points=\"\n",
       "  25.6518,381.015 596.063,381.015 \n",
       "  \"/>\n",
       "<polyline clip-path=\"url(#clip02)\" style=\"stroke:#00002d; stroke-width:0.8; stroke-opacity:1; fill:none\" points=\"\n",
       "  163.933,381.015 163.933,375.359 \n",
       "  \"/>\n",
       "<polyline clip-path=\"url(#clip02)\" style=\"stroke:#00002d; stroke-width:0.8; stroke-opacity:1; fill:none\" points=\"\n",
       "  307.977,381.015 307.977,375.359 \n",
       "  \"/>\n",
       "<polyline clip-path=\"url(#clip02)\" style=\"stroke:#00002d; stroke-width:0.8; stroke-opacity:1; fill:none\" points=\"\n",
       "  452.02,381.015 452.02,375.359 \n",
       "  \"/>\n",
       "<polyline clip-path=\"url(#clip02)\" style=\"stroke:#00002d; stroke-width:0.8; stroke-opacity:1; fill:none\" points=\"\n",
       "  596.063,381.015 596.063,375.359 \n",
       "  \"/>\n",
       "<polyline clip-path=\"url(#clip02)\" style=\"stroke:#00002d; stroke-width:0.8; stroke-opacity:1; fill:none\" points=\"\n",
       "  25.6518,381.015 25.6518,3.93701 \n",
       "  \"/>\n",
       "<polyline clip-path=\"url(#clip02)\" style=\"stroke:#00002d; stroke-width:0.8; stroke-opacity:1; fill:none\" points=\"\n",
       "  25.6518,336.596 34.208,336.596 \n",
       "  \"/>\n",
       "<polyline clip-path=\"url(#clip02)\" style=\"stroke:#00002d; stroke-width:0.8; stroke-opacity:1; fill:none\" points=\"\n",
       "  25.6518,172.338 34.208,172.338 \n",
       "  \"/>\n",
       "<polyline clip-path=\"url(#clip02)\" style=\"stroke:#00002d; stroke-width:0.8; stroke-opacity:1; fill:none\" points=\"\n",
       "  25.6518,8.08009 34.208,8.08009 \n",
       "  \"/>\n",
       "<g clip-path=\"url(#clip00)\">\n",
       "<text style=\"fill:#00002d; fill-opacity:1; font-family:Arial,Helvetica Neue,Helvetica,sans-serif; font-size:12; text-anchor:middle;\" transform=\"rotate(0, 163.933, 393.015)\" x=\"163.933\" y=\"393.015\">25</text>\n",
       "</g>\n",
       "<g clip-path=\"url(#clip00)\">\n",
       "<text style=\"fill:#00002d; fill-opacity:1; font-family:Arial,Helvetica Neue,Helvetica,sans-serif; font-size:12; text-anchor:middle;\" transform=\"rotate(0, 307.977, 393.015)\" x=\"307.977\" y=\"393.015\">50</text>\n",
       "</g>\n",
       "<g clip-path=\"url(#clip00)\">\n",
       "<text style=\"fill:#00002d; fill-opacity:1; font-family:Arial,Helvetica Neue,Helvetica,sans-serif; font-size:12; text-anchor:middle;\" transform=\"rotate(0, 452.02, 393.015)\" x=\"452.02\" y=\"393.015\">75</text>\n",
       "</g>\n",
       "<g clip-path=\"url(#clip00)\">\n",
       "<text style=\"fill:#00002d; fill-opacity:1; font-family:Arial,Helvetica Neue,Helvetica,sans-serif; font-size:12; text-anchor:middle;\" transform=\"rotate(0, 596.063, 393.015)\" x=\"596.063\" y=\"393.015\">100</text>\n",
       "</g>\n",
       "<g clip-path=\"url(#clip00)\">\n",
       "<text style=\"fill:#00002d; fill-opacity:1; font-family:Arial,Helvetica Neue,Helvetica,sans-serif; font-size:12; text-anchor:end;\" transform=\"rotate(0, 24.4518, 341.096)\" x=\"24.4518\" y=\"341.096\">0</text>\n",
       "</g>\n",
       "<g clip-path=\"url(#clip00)\">\n",
       "<text style=\"fill:#00002d; fill-opacity:1; font-family:Arial,Helvetica Neue,Helvetica,sans-serif; font-size:12; text-anchor:end;\" transform=\"rotate(0, 24.4518, 176.838)\" x=\"24.4518\" y=\"176.838\">10</text>\n",
       "</g>\n",
       "<g clip-path=\"url(#clip00)\">\n",
       "<text style=\"fill:#00002d; fill-opacity:1; font-family:Arial,Helvetica Neue,Helvetica,sans-serif; font-size:12; text-anchor:end;\" transform=\"rotate(0, 24.4518, 12.5801)\" x=\"24.4518\" y=\"12.5801\">20</text>\n",
       "</g>\n",
       "<polyline clip-path=\"url(#clip02)\" style=\"stroke:#0099ff; stroke-width:0.8; stroke-opacity:1; fill:none\" points=\"\n",
       "  25.6518,335.158 31.4135,343.912 37.1753,359.006 42.937,380.833 48.6987,357.456 54.4604,332.135 60.2222,323.041 65.9839,291.087 71.7456,279.652 77.5074,258.514 \n",
       "  83.2691,268.765 89.0308,258.788 94.7925,256.364 100.554,260.073 106.316,233.17 112.078,226.755 117.839,241.26 123.601,232.041 129.363,215.898 135.125,236.093 \n",
       "  140.886,230.154 146.648,217.585 152.41,230.422 158.172,243.236 163.933,252.273 169.695,238.787 175.457,260.535 181.218,244.039 186.98,246.378 192.742,191.419 \n",
       "  198.504,212.765 204.265,224.737 210.027,238.129 215.789,218.271 221.551,202.927 227.312,204.051 233.074,232.489 238.836,231.572 244.598,244.862 250.359,246.467 \n",
       "  256.121,259.431 261.883,255.733 267.644,240.69 273.406,235.095 279.168,228.252 284.93,222.985 290.691,223.958 296.453,242.584 302.215,228.356 307.977,239.132 \n",
       "  313.738,230.42 319.5,247.515 325.262,233.695 331.023,212.023 336.785,202.18 342.547,185.486 348.309,214.076 354.07,209.33 359.832,217.627 365.594,195.891 \n",
       "  371.356,168.474 377.117,176.505 382.879,147.339 388.641,150 394.402,144.399 400.164,152.544 405.926,146.292 411.688,152.889 417.449,161.746 423.211,140.973 \n",
       "  428.973,137.376 434.735,158.571 440.496,144.713 446.258,150.422 452.02,112.145 457.781,113.132 463.543,131.644 469.305,161.625 475.067,185.262 480.828,172.552 \n",
       "  486.59,178.825 492.352,195.017 498.114,166.307 503.875,128.078 509.637,115.351 515.399,110.613 521.161,94.0882 526.922,88.186 532.684,113.227 538.446,131.639 \n",
       "  544.207,125.696 549.969,120.765 555.731,139.828 561.493,152.52 567.254,144.346 573.016,135.244 578.778,99.6959 584.54,105.205 590.301,132.642 596.063,168.988 \n",
       "  \n",
       "  \"/>\n",
       "<polyline clip-path=\"url(#clip02)\" style=\"stroke:#e9746a; stroke-width:0.8; stroke-opacity:1; fill:none\" points=\"\n",
       "  25.6518,366.589 31.4135,352.781 37.1753,338.436 42.937,352.107 48.6987,357.402 54.4604,366.75 60.2222,369.242 65.9839,362.228 71.7456,355.237 77.5074,365.205 \n",
       "  83.2691,358.115 89.0308,355.296 94.7925,358.746 100.554,374.091 106.316,381.015 112.078,375.825 117.839,363.247 123.601,350.63 129.363,353.574 135.125,340.715 \n",
       "  140.886,336.836 146.648,321.816 152.41,300.483 158.172,294.975 163.933,282.206 169.695,266.905 175.457,254.303 181.218,241.733 186.98,235.269 192.742,232.568 \n",
       "  198.504,247.498 204.265,231.272 210.027,242.326 215.789,224.212 221.551,231.589 227.312,227.528 233.074,229.375 238.836,250.029 244.598,248.134 250.359,233.047 \n",
       "  256.121,220.336 261.883,223.121 267.644,214.046 273.406,215.096 279.168,257.695 284.93,247.449 290.691,207.523 296.453,241.254 302.215,256.224 307.977,265.866 \n",
       "  313.738,259.166 319.5,268.152 325.262,267.495 331.023,262.221 336.785,245.65 342.547,222.208 348.309,227.257 354.07,199.142 359.832,201.599 365.594,225.75 \n",
       "  371.356,203.376 377.117,223.62 382.879,195.623 388.641,194.826 394.402,202.065 400.164,182.293 405.926,199.567 411.688,174.79 417.449,180.298 423.211,140.823 \n",
       "  428.973,160.876 434.735,143.436 440.496,131.087 446.258,104.788 452.02,106.665 457.781,122.373 463.543,124.137 469.305,145.202 475.067,160.298 480.828,133.027 \n",
       "  486.59,94.8436 492.352,120.462 498.114,84.905 503.875,58.11 509.637,64.144 515.399,71.0798 521.161,77.7329 526.922,89.0358 532.684,58.6687 538.446,25.2606 \n",
       "  544.207,18.015 549.969,10.9449 555.731,13.042 561.493,11.6996 567.254,13.6063 573.016,6.61266 578.778,3.93701 584.54,13.5196 590.301,33.7406 596.063,37.7113 \n",
       "  \n",
       "  \"/>\n",
       "<polygon clip-path=\"url(#clip00)\" points=\"\n",
       "505.547,70.177 578.063,70.177 578.063,24.817 505.547,24.817 \n",
       "  \" fill=\"#ffffff\" fill-opacity=\"1\"/>\n",
       "<polyline clip-path=\"url(#clip00)\" style=\"stroke:#00002d; stroke-width:0.8; stroke-opacity:1; fill:none\" points=\"\n",
       "  505.547,70.177 578.063,70.177 578.063,24.817 505.547,24.817 505.547,70.177 \n",
       "  \"/>\n",
       "<polyline clip-path=\"url(#clip00)\" style=\"stroke:#0099ff; stroke-width:0.8; stroke-opacity:1; fill:none\" points=\"\n",
       "  511.547,39.937 547.547,39.937 \n",
       "  \"/>\n",
       "<g clip-path=\"url(#clip00)\">\n",
       "<text style=\"fill:#00002d; fill-opacity:1; font-family:Arial,Helvetica Neue,Helvetica,sans-serif; font-size:12; text-anchor:start;\" transform=\"rotate(0, 553.547, 44.437)\" x=\"553.547\" y=\"44.437\">y1</text>\n",
       "</g>\n",
       "<polyline clip-path=\"url(#clip00)\" style=\"stroke:#e9746a; stroke-width:0.8; stroke-opacity:1; fill:none\" points=\"\n",
       "  511.547,55.057 547.547,55.057 \n",
       "  \"/>\n",
       "<g clip-path=\"url(#clip00)\">\n",
       "<text style=\"fill:#00002d; fill-opacity:1; font-family:Arial,Helvetica Neue,Helvetica,sans-serif; font-size:12; text-anchor:start;\" transform=\"rotate(0, 553.547, 59.557)\" x=\"553.547\" y=\"59.557\">y2</text>\n",
       "</g>\n",
       "</svg>\n"
      ]
     },
     "execution_count": 87,
     "metadata": {},
     "output_type": "execute_result"
    }
   ],
   "source": [
    "gr()\n",
    "plot(x)"
   ]
  },
  {
   "cell_type": "code",
   "execution_count": 88,
   "metadata": {
    "collapsed": false,
    "slideshow": {
     "slide_type": "slide"
    }
   },
   "outputs": [
    {
     "data": {
      "text/html": [
       "<script src=\"/Users/joshday/.julia/v0.5/Plots/src/backends/../../deps/plotly-latest.min.js\"></script>    <div id=\"fb39469d-6d64-493d-93b2-9a2f3200718e\" style=\"width:600px;height:400px;\"></div>\n",
       "    <script>\n",
       "    PLOT = document.getElementById('fb39469d-6d64-493d-93b2-9a2f3200718e');\n",
       "    Plotly.plot(PLOT, [{\"yaxis\":\"y\",\"y\":[0.08756575048588376,-0.44536597257685995,-1.3643046813470323,-2.69316694524871,-1.269981338481819,0.2715818203123934,0.825216069694678,2.770601736480954,3.466713504080578,4.753591908568798,4.129528366663502,4.736958484136907,4.8845164579731755,4.6587327186933845,6.296534094834274,6.687081543958378,5.804059413127886,6.365276024887625,7.34809251647694,6.118602086229871,6.480174836126903,7.245400639094043,6.463833108632021,5.683755554106513,5.133569774535987,5.954587445916939,4.630566245155202,5.634887620899772,5.492440484558772,8.83836075638537,7.53883847514904,6.809941057295948,5.994684597471031,7.203636895165504,8.13776880601886,8.069314926795393,6.338033364501913,6.393829377768835,5.584753082724823,5.48706846730902,4.6978234818301985,4.922919497942577,5.8387337226595974,6.1793454290259735,6.595964691480929,6.916613121353675,6.857382990697921,5.723431015014129,6.589651178551868,5.933587094348663,6.4639567045855255,5.423267728113362,6.264596114726216,7.583961839304902,8.183220248208551,9.19955483592365,7.459029987273476,7.747959597889436,7.242833758920702,8.566086124608848,10.235244031084651,9.74633729444888,11.521918963718234,11.359962214659596,11.700945443986907,11.205031459921084,11.585691093506602,11.184028650479863,10.644827037990073,11.90949426344361,12.128489625817629,10.838137234571288,11.681807322387213,11.334270296646146,13.664535531713012,13.604463044823639,12.477432364425347,10.652202765107212,9.213207581784394,9.986995298065839,9.605054448790076,8.619286563720308,10.367158162958871,12.6945391415952,13.469379956643227,13.757801822223655,14.763839121812282,15.123165505122019,13.598655937200975,12.477750181873535,12.83954870553808,13.139743240904965,11.979226217740942,11.206525523013944,11.70415611617357,12.258302545978996,14.422440375030082,14.087040972476803,12.416661864333722,10.203939719449515],\"showlegend\":true,\"name\":\"y1\",\"type\":\"scatter\",\"xaxis\":\"x\",\"line\":{\"width\":1,\"dash\":\"solid\",\"color\":\"rgba(0, 154, 250, 1.000)\",\"shape\":\"linear\"},\"x\":[1,2,3,4,5,6,7,8,9,10,11,12,13,14,15,16,17,18,19,20,21,22,23,24,25,26,27,28,29,30,31,32,33,34,35,36,37,38,39,40,41,42,43,44,45,46,47,48,49,50,51,52,53,54,55,56,57,58,59,60,61,62,63,64,65,66,67,68,69,70,71,72,73,74,75,76,77,78,79,80,81,82,83,84,85,86,87,88,89,90,91,92,93,94,95,96,97,98,99,100],\"mode\":\"lines\"},{\"yaxis\":\"y\",\"y\":[-1.8259685976820539,-0.9853375966243625,-0.11198967685553862,-0.9442965651980612,-1.2666545336521642,-1.8357904540589145,-1.9875035336831024,-1.560462952357613,-1.134881948055023,-1.7416851806173435,-1.3100822704131372,-1.1384763665285358,-1.348484379840755,-2.2826859919340245,-2.704213331087421,-2.3882342236946106,-1.6224788734974231,-0.8543869229992003,-1.0336424486559468,-0.25076696828108247,-0.01463962902655086,0.8998158609330584,2.198540131136781,2.53389972356625,3.311280134339116,4.242803800849013,5.009975072746033,5.775217205266284,6.168775408458352,6.333213659677257,5.424299277529403,6.412083161327649,5.73911975566435,6.8419436102515885,6.392802871169232,6.640029809128467,6.527614996126232,5.270176045080357,5.385560741253077,6.304044014923173,7.077890063858674,6.908369412536585,7.460845485294118,7.396897034981158,4.803507132577208,5.427255032851901,7.857951523569733,5.804391068562001,4.893050000326202,4.306029285511125,4.71393795625475,4.166857411317631,4.206839921074508,4.52792225496011,5.536765307498246,6.963935640144132,6.656537193552195,8.368158223732484,8.218613931042402,6.748278245225914,8.110411364885284,6.877964343168122,8.58243398190281,8.630941027639256,8.190206461758274,9.393934353695606,8.34228353405231,9.850729403173627,9.51537886747331,11.918661588114063,10.697834237298425,11.759571720147623,12.511353693364335,14.112442628887633,13.99817309901816,13.041842225324606,12.934487324480411,11.65206109957363,10.732968348234754,12.393239644991223,14.71785030481536,13.158205711693473,15.322908739571716,16.95418698373724,16.586835361476584,16.164586122275626,15.759547383395843,15.071428509873012,16.920174679254547,18.95405051440068,19.395165168718563,19.82559096978574,19.697917369303045,19.77964498053848,19.66356290512377,20.089336890542807,20.2522303014341,19.668844853910183,18.437789446379448,18.19605723990515],\"showlegend\":true,\"name\":\"y2\",\"type\":\"scatter\",\"xaxis\":\"x\",\"line\":{\"width\":1,\"dash\":\"solid\",\"color\":\"rgba(227, 111, 71, 1.000)\",\"shape\":\"linear\"},\"x\":[1,2,3,4,5,6,7,8,9,10,11,12,13,14,15,16,17,18,19,20,21,22,23,24,25,26,27,28,29,30,31,32,33,34,35,36,37,38,39,40,41,42,43,44,45,46,47,48,49,50,51,52,53,54,55,56,57,58,59,60,61,62,63,64,65,66,67,68,69,70,71,72,73,74,75,76,77,78,79,80,81,82,83,84,85,86,87,88,89,90,91,92,93,94,95,96,97,98,99,100],\"mode\":\"lines\"}], {\"yaxis\":{\"type\":\"-\",\"titlefont\":{\"size\":15,\"color\":\"rgba(0, 0, 0, 1.000)\",\"family\":\"Helvetica\"},\"title\":\"\",\"tickfont\":{\"size\":11,\"color\":\"rgba(0, 0, 0, 1.000)\",\"family\":\"Helvetica\"},\"ticks\":\"inside\",\"tickmode\":\"array\",\"showgrid\":true,\"tickvals\":[0.0,10.0,20.0],\"domain\":[0.04746281714785653,0.9901574803149606],\"ticktext\":[\"0\",\"10\",\"20\"],\"tickangle\":0,\"zeroline\":false,\"linecolor\":\"rgba(0, 0, 0, 1.000)\",\"tickcolor\":\"rgba(0, 0, 0, 1.000)\",\"anchor\":\"x\"},\"annotations\":[],\"width\":600,\"plot_bgcolor\":\"rgba(255, 255, 255, 1.000)\",\"showlegend\":true,\"legend\":{\"bgcolor\":\"rgba(255, 255, 255, 1.000)\",\"font\":{\"size\":11,\"color\":\"rgba(0, 0, 0, 1.000)\",\"family\":\"Helvetica\"},\"bordercolor\":\"rgba(0, 0, 0, 1.000)\"},\"xaxis\":{\"type\":\"-\",\"titlefont\":{\"size\":15,\"color\":\"rgba(0, 0, 0, 1.000)\",\"family\":\"Helvetica\"},\"title\":\"\",\"tickfont\":{\"size\":11,\"color\":\"rgba(0, 0, 0, 1.000)\",\"family\":\"Helvetica\"},\"ticks\":\"inside\",\"tickmode\":\"array\",\"showgrid\":true,\"tickvals\":[25.0,50.0,75.0,100.0],\"domain\":[0.04275298920968212,0.9934383202099737],\"ticktext\":[\"25\",\"50\",\"75\",\"100\"],\"tickangle\":0,\"zeroline\":false,\"linecolor\":\"rgba(0, 0, 0, 1.000)\",\"tickcolor\":\"rgba(0, 0, 0, 1.000)\",\"anchor\":\"y\"},\"paper_bgcolor\":\"rgba(255, 255, 255, 1.000)\",\"height\":400,\"margin\":{\"r\":0,\"l\":0,\"b\":0,\"t\":20}});\n",
       "    </script>\n"
      ]
     },
     "execution_count": 88,
     "metadata": {},
     "output_type": "execute_result"
    }
   ],
   "source": [
    "plotly()\n",
    "plot(x)"
   ]
  },
  {
   "cell_type": "code",
   "execution_count": 89,
   "metadata": {
    "collapsed": false,
    "slideshow": {
     "slide_type": "slide"
    }
   },
   "outputs": [
    {
     "name": "stderr",
     "output_type": "stream",
     "text": [
      "INFO: Saved animation to /Users/joshday/github/Talks/SLG2016_IntroToJulia/tmp.gif\n"
     ]
    },
    {
     "data": {
      "text/html": [
       "<img src=\"tmp.gif?0.7460293635271091>\" />"
      ],
      "text/plain": [
       "Plots.AnimatedGif(\"/Users/joshday/github/Talks/SLG2016_IntroToJulia/tmp.gif\")"
      ]
     },
     "execution_count": 89,
     "metadata": {},
     "output_type": "execute_result"
    }
   ],
   "source": [
    "gr()\n",
    "x = randn()\n",
    "plt = plot([0.0], [x])\n",
    "@gif for i in 1:1000\n",
    "    x += randn()\n",
    "    push!(plt, x)\n",
    "end every 10"
   ]
  },
  {
   "cell_type": "markdown",
   "metadata": {
    "slideshow": {
     "slide_type": "slide"
    }
   },
   "source": [
    "# [OnlineStats.jl](https://github.com/joshday/OnlineStats.jl)\n",
    "\n",
    "- Shameless self promotion, but this is something that doesn't exist elsewhere\n",
    "- Streaming data algorithms for statistics with options on how new observations should influence the statistic/model"
   ]
  },
  {
   "cell_type": "markdown",
   "metadata": {
    "slideshow": {
     "slide_type": "slide"
    }
   },
   "source": [
    "```julia\n",
    "o1 = Mean(EqualWeight())\n",
    "o2 = Mean(ExponentialWeight(.01))\n",
    "\n",
    "for y in datastream\n",
    "    fit!(o1, y)\n",
    "    fit!(o2, y)\n",
    "end\n",
    "```\n",
    "![](streamweight.gif)\n",
    "\n",
    "- Means are simple\n",
    "- However, the same \"parameter-drift\" can occur in GLMs or other models\n",
    "- `StatLearn`: Statistical learning with regularization (Ridge, Lasso, Elastic Net) for:\n",
    "    - Generalized Linear Models\n",
    "    - Quantile Regression\n",
    "    - SVMs\n",
    "    - Huber Loss Regression\n",
    "    - Absolute Loss Regression"
   ]
  },
  {
   "cell_type": "code",
   "execution_count": 92,
   "metadata": {
    "collapsed": false
   },
   "outputs": [
    {
     "name": "stdout",
     "output_type": "stream",
     "text": [
      "  2.478593 seconds (143 allocations: 839.312 MB, 6.64% gc time)\n",
      "  0.972737 seconds (5.60 M allocations: 1.989 GB, 34.27% gc time)\n"
     ]
    },
    {
     "data": {
      "text/html": [
       "<script src=\"/Users/joshday/.julia/v0.5/Plots/src/backends/../../deps/plotly-latest.min.js\"></script>    <div id=\"bc0c5255-62e8-4a0f-929d-14e5a2a166a2\" style=\"width:600px;height:400px;\"></div>\n",
       "    <script>\n",
       "    PLOT = document.getElementById('bc0c5255-62e8-4a0f-929d-14e5a2a166a2');\n",
       "    Plotly.plot(PLOT, [{\"yaxis\":\"y\",\"y\":[0.3497980757482464,-0.5733720151975081,1.1948067793910084,-0.36244066982431183,-0.3797652441718342,1.2421164928768385,-0.42884261876092356,0.22596272480285184,-0.21129445017017,0.26359746311187804],\"showlegend\":true,\"name\":\"Truth\",\"type\":\"scatter\",\"xaxis\":\"x\",\"x\":[1,2,3,4,5,6,7,8,9,10],\"mode\":\"markers\",\"marker\":{\"symbol\":\"circle\",\"line\":{\"width\":1,\"color\":\"rgba(0, 0, 0, 1.000)\"},\"size\":8,\"color\":\"rgba(0, 154, 250, 1.000)\"}},{\"yaxis\":\"y\",\"y\":[0.3513785075428321,-0.5737787877888767,1.1987968840728893,-0.3604198125086671,-0.36904054820342114,1.2404603167133355,-0.4298512311251481,0.23316218258477064,-0.20879516735629564,0.2574051932341813],\"showlegend\":true,\"name\":\"SGD\",\"type\":\"scatter\",\"xaxis\":\"x\",\"x\":[1,2,3,4,5,6,7,8,9,10],\"mode\":\"markers\",\"marker\":{\"symbol\":\"circle\",\"line\":{\"width\":1,\"color\":\"rgba(0, 0, 0, 1.000)\"},\"size\":8,\"color\":\"rgba(227, 111, 71, 1.000)\"}}], {\"yaxis\":{\"type\":\"-\",\"titlefont\":{\"size\":15,\"color\":\"rgba(0, 0, 0, 1.000)\",\"family\":\"Helvetica\"},\"title\":\"\",\"tickfont\":{\"size\":11,\"color\":\"rgba(0, 0, 0, 1.000)\",\"family\":\"Helvetica\"},\"ticks\":\"inside\",\"tickmode\":\"array\",\"showgrid\":true,\"tickvals\":[-0.5,0.0,0.5,1.0],\"domain\":[0.04746281714785653,0.9901574803149606],\"ticktext\":[\"-0.5\",\"0.0\",\"0.5\",\"1.0\"],\"tickangle\":0,\"zeroline\":false,\"linecolor\":\"rgba(0, 0, 0, 1.000)\",\"tickcolor\":\"rgba(0, 0, 0, 1.000)\",\"anchor\":\"x\"},\"annotations\":[],\"width\":600,\"plot_bgcolor\":\"rgba(255, 255, 255, 1.000)\",\"showlegend\":true,\"legend\":{\"bgcolor\":\"rgba(255, 255, 255, 1.000)\",\"font\":{\"size\":11,\"color\":\"rgba(0, 0, 0, 1.000)\",\"family\":\"Helvetica\"},\"bordercolor\":\"rgba(0, 0, 0, 1.000)\"},\"xaxis\":{\"type\":\"-\",\"titlefont\":{\"size\":15,\"color\":\"rgba(0, 0, 0, 1.000)\",\"family\":\"Helvetica\"},\"title\":\"\",\"tickfont\":{\"size\":11,\"color\":\"rgba(0, 0, 0, 1.000)\",\"family\":\"Helvetica\"},\"ticks\":\"inside\",\"tickmode\":\"array\",\"showgrid\":true,\"tickvals\":[2.0,4.0,6.0,8.0,10.0],\"domain\":[0.07238261883931174,0.9934383202099738],\"ticktext\":[\"2\",\"4\",\"6\",\"8\",\"10\"],\"tickangle\":0,\"zeroline\":false,\"linecolor\":\"rgba(0, 0, 0, 1.000)\",\"tickcolor\":\"rgba(0, 0, 0, 1.000)\",\"anchor\":\"y\"},\"paper_bgcolor\":\"rgba(255, 255, 255, 1.000)\",\"height\":400,\"margin\":{\"r\":0,\"l\":0,\"b\":0,\"t\":20}});\n",
       "    </script>\n"
      ]
     },
     "execution_count": 92,
     "metadata": {},
     "output_type": "execute_result"
    }
   ],
   "source": [
    "using OnlineStatsModels\n",
    "plotly()\n",
    "\n",
    "# generate data\n",
    "x = randn(10_000_000, 10)\n",
    "β = randn(10)\n",
    "y = x * β + randn(10_000_000)\n",
    "\n",
    "@time βhat = x \\ y\n",
    "@time o = StatLearn(x, y, 100, LinearRegression(), SGD(), intercept = false)\n",
    "scatter(hcat(βhat, o.β), label = [\"Truth\" \"SGD\"])"
   ]
  },
  {
   "cell_type": "markdown",
   "metadata": {
    "slideshow": {
     "slide_type": "slide"
    }
   },
   "source": [
    "# [DataStreams.jl](https://github.com/JuliaData/DataStreams.jl)\n",
    "\n",
    "- Abstractions for transferring tabular data from one source to another\n",
    "    - [DataFrames.jl](https://github.com/JuliaStats/DataFrames.jl)\n",
    "    - [Feather.jl](https://github.com/JuliaStats/Feather.jl)\n",
    "    - [SQLite.jl](https://github.com/JuliaDB/SQLite.jl)\n",
    "    - [CSV.jl](https://github.com/JuliaData/CSV.jl)\n",
    "    - [ODBC.jl](https://github.com/JuliaDB/ODBC.jl)\n",
    "- [Jacob Quinn's JuliaCon 2016 Talk](https://www.youtube.com/watch?v=N39V6JMWazo)"
   ]
  },
  {
   "cell_type": "markdown",
   "metadata": {},
   "source": [
    "# [StructuredQueries.jl](https://github.com/davidagold/StructuredQueries.jl) / [Query.jl](https://github.com/davidanthoff/Query.jl)\n",
    "\n",
    "- Essentially dplyr for Julia\n",
    "- This has been a long time coming.  Abstractions for dealing with data are difficult."
   ]
  },
  {
   "cell_type": "markdown",
   "metadata": {
    "slideshow": {
     "slide_type": "slide"
    }
   },
   "source": [
    "# [Mamba.jl](https://github.com/brian-j-smith/Mamba.jl) / [Klara.jl](https://github.com/JuliaStats/Klara.jl)\n",
    "\n",
    "- MCMC for Bayesian analysis\n",
    "- Pure Julia\n",
    "    - Rather depending on external sampler: WinBUGS, JAGS, Stan"
   ]
  },
  {
   "cell_type": "markdown",
   "metadata": {
    "slideshow": {
     "slide_type": "slide"
    }
   },
   "source": [
    "# Conclusions"
   ]
  },
  {
   "cell_type": "markdown",
   "metadata": {
    "slideshow": {
     "slide_type": "slide"
    }
   },
   "source": [
    "- Julia has a great start (4 years since public appearance)\n",
    "    - Fewer breaking changes with every release\n",
    "    - Currently on 0.5\n",
    "        - Syntax is now stable\n",
    "        - We will see 0.6 (partially to remove deprecation warnings) and then 1.0\n",
    "- Great for:\n",
    "    - Implementing your own algorithms\n",
    "    - Projects with few dependencies\n",
    "        - Although stability is increasing across the package ecosystem"
   ]
  },
  {
   "cell_type": "markdown",
   "metadata": {
    "slideshow": {
     "slide_type": "slide"
    }
   },
   "source": [
    "# Thank You"
   ]
  }
 ],
 "metadata": {
  "kernelspec": {
   "display_name": "Julia 0.5.1-pre",
   "language": "julia",
   "name": "julia-0.5"
  },
  "language_info": {
   "file_extension": ".jl",
   "mimetype": "application/julia",
   "name": "julia",
   "version": "0.5.1"
  }
 },
 "nbformat": 4,
 "nbformat_minor": 0
}
